{
 "cells": [
  {
   "cell_type": "markdown",
   "metadata": {},
   "source": [
    "# N-Body Simulation\n",
    "\n",
    "An attempt to simulate the N-Body Problem with a reasonable amount of Bodies (Planets). For simplicity, different types such as gas, dark matter etc. are not considered.\n",
    "\n",
    "\n",
    "In this ipynb, the simulation is shown via matplotlib. The final animation is planned to be visualized by:\n",
    "* [GlNemo2](https://projets.lam.fr/projects/glnemo2) (on [gitlab.lam.fr](https://gitlab.lam.fr/jclamber/glnemo2)) - A 3D visualization program\n",
    "* [python-unsio](https://pypi.org/project/python-unsio/) ([projects.lam.fr](https://projets.lam.fr/projects/unsio)) - A python library to generate NBody Snapshots"
   ]
  },
  {
   "cell_type": "code",
   "execution_count": 3,
   "metadata": {},
   "outputs": [
    {
     "name": "stdout",
     "output_type": "stream",
     "text": [
      "The autoreload extension is already loaded. To reload it, use:\n",
      "  %reload_ext autoreload\n"
     ]
    }
   ],
   "source": [
    "%matplotlib notebook\n",
    "\n",
    "# Allows auto-reloading all imports\n",
    "%load_ext autoreload"
   ]
  },
  {
   "cell_type": "code",
   "execution_count": 4,
   "metadata": {},
   "outputs": [],
   "source": [
    "%autoreload  # Auto-reload all imports\n",
    "\n",
    "from collections import namedtuple\n",
    "from matplotlib import pyplot as plt\n",
    "from tqdm import tqdm\n",
    "from random import random\n",
    "import numpy as np\n",
    "import scipy.constants"
   ]
  },
  {
   "cell_type": "markdown",
   "metadata": {},
   "source": [
    "## Parameters\n",
    "Contains widely used constants for the Simulation, such as `G`, the Gravitational constant or the `TIME_INTERVAL`, used to define the timestep / calculation."
   ]
  },
  {
   "cell_type": "code",
   "execution_count": 5,
   "metadata": {},
   "outputs": [],
   "source": [
    "G = scipy.constants.G\n",
    "TIME_INTERVAL = 5"
   ]
  },
  {
   "cell_type": "markdown",
   "metadata": {},
   "source": [
    "## Bodies\n",
    "A body is defined by its name, mass, (initial) position and (initial) velocity. A body is **only** described by its initial position and velocity. The Bodies can be generated randomly or with manual values.\n",
    "\n",
    "## Numpy Coordinates\n",
    "To perform the calculations, a `numpy.array` is generated with initial positions and velocities. This array is updated every timestep and should be used for any calculations.\n",
    "It is a Numpy Float64 array with 3 axes (dimensions):\n",
    "* List of Bodies\n",
    "* List of [Position, Velocity]\n",
    "* List of Coordinates (3DVector, 3*float64)"
   ]
  },
  {
   "cell_type": "code",
   "execution_count": null,
   "metadata": {},
   "outputs": [],
   "source": [
    "Body = namedtuple('Body', 'name, mass, position, velocity')\n",
    "\n",
    "\n",
    "def get_random_bodies(n=2):\n",
    "    '''\n",
    "    Generates `n` bodies randomly, with a random mass, position and 0 velocity.\n",
    "    '''\n",
    "    def rd_vector(mu): return np.random.normal(mu, 0.2, (3,))\n",
    "\n",
    "    for i in range(n):\n",
    "        yield Body(name=f'P{i}', mass=100 * random(), position=rd_vector(0.5), velocity=np.zeros((3,)))"
   ]
  },
  {
   "cell_type": "code",
   "execution_count": null,
   "metadata": {},
   "outputs": [],
   "source": [
    "def create_arr_from_bodies(bodies):\n",
    "    return np.array(tuple((b.position, b.velocity) for b in bodies))\n",
    "\n",
    "# Function to quickly generate random Position and Velocity Vectors for testing\n",
    "# def create_random(amount): return np.random.normal(0.5, 0.3, (amount, 2, 3))"
   ]
  },
  {
   "cell_type": "markdown",
   "metadata": {},
   "source": [
    "# Utility Functions\n",
    "* Pretty printing coordinates"
   ]
  },
  {
   "cell_type": "code",
   "execution_count": null,
   "metadata": {},
   "outputs": [],
   "source": [
    "def pretty_print_coordinates(bodies, arr):\n",
    "    \"\"\"\n",
    "    Pretty Printing Coordinates (Format: `BodyName - (x; y; z)` with 4 decimals)\n",
    "    \"\"\"\n",
    "    for body, x in zip(bodies, arr):\n",
    "        p = x[0]\n",
    "        coordinates = '; '.join(f'{p[i]:.4f}' for i in range(3))\n",
    "        print(f'{body.name} - ({coordinates})')"
   ]
  },
  {
   "cell_type": "markdown",
   "metadata": {},
   "source": [
    "# Update Function\n",
    "\n",
    "This is the core of the simulation: the functions that update velocities and positions of all `bodies` for an interval `timestep`."
   ]
  },
  {
   "cell_type": "markdown",
   "metadata": {},
   "source": [
    "## Simple Newton\n",
    "Implementation of Equations derived from \"*Newton's laws of motion*\" and \"*Newton's law of universal gravitation*\"\n",
    "\n",
    "\n",
    "1. Calculate norm of the vector a:\n",
    "    * Newton's law of motion: $ \\vec{F} = m\\vec{a}$\n",
    "    * Newton's law of universal gravitation: \\$ F = G \\times \\frac{m_1 \\times m_2}{r^2}$\n",
    "\n",
    "\n",
    "2. Direction of the vector a: normalized vector \\$ \\hat r = \\frac{\\vec r}{\\lVert \\vec r \\rVert}$\n",
    "\n",
    "\n",
    "$$ m_1 \\times \\vec a = G \\times \\frac{m_1 \\times m_2}{\\lVert \\vec r \\rVert ^2} \\times \\hat r $$\n",
    "\n",
    "$$ \\Rightarrow \\vec a = G \\times \\frac{m_2}{\\lVert \\vec r \\rVert ^3} \\times \\vec r $$"
   ]
  },
  {
   "cell_type": "code",
   "execution_count": null,
   "metadata": {},
   "outputs": [],
   "source": [
    "def simple_newton(arr, bodies, timestep=TIME_INTERVAL):\n",
    "    \"\"\"\n",
    "    :param arr: Array of positions and velocities that will be used and updated during calculation\n",
    "    :param bodies: Iterable of bodies (same length as `arr` that will be used to retrieve mass)\n",
    "    :param timestemp: The timestep used for one calculation step.\n",
    "    \"\"\"\n",
    "    for idx1, b1 in enumerate(arr):\n",
    "        acceleration = np.zeros((3,))\n",
    "        for idx2, b2 in enumerate(arr):\n",
    "\n",
    "            if idx1 == idx2:\n",
    "                continue\n",
    "\n",
    "            d_vec = np.subtract(b2[0], b1[0])\n",
    "            normalized = d_vec / np.linalg.norm(d_vec)\n",
    "\n",
    "            r_2 = np.sum(np.power(d_vec, 2))\n",
    "            m2 = bodies[idx2].mass\n",
    "\n",
    "            a = G * m2 / r_2\n",
    "            acceleration += (a * normalized)\n",
    "        arr[idx1, 1] += acceleration * timestep\n",
    "    for idx, b in enumerate(arr):\n",
    "        arr[idx, 0] += b[1] * timestep"
   ]
  },
  {
   "cell_type": "markdown",
   "metadata": {},
   "source": [
    "# Start of the simulation\n",
    "\n",
    "Defining Bodies and function to be used, generating array of Positions and starting the matplotlib simulation."
   ]
  },
  {
   "cell_type": "code",
   "execution_count": null,
   "metadata": {
    "scrolled": false
   },
   "outputs": [],
   "source": [
    "bodies = tuple(get_random_bodies(4))\n",
    "\"\"\"\n",
    "# Experimenting with hardcoded Values for Bodies\n",
    "bodies = (\n",
    "    Body(\"Sun\", 10e10, (0, 0, 0), )\n",
    ")\n",
    "\"\"\"\n",
    "\n",
    "# Define function to be used\n",
    "calc_next_step = simple_newton"
   ]
  },
  {
   "cell_type": "code",
   "execution_count": null,
   "metadata": {},
   "outputs": [],
   "source": [
    "# Reset / generate initial position and velocities\n",
    "arr = create_arr_from_bodies(bodies)\n",
    "pretty_print_coordinates(bodies, arr)"
   ]
  },
  {
   "cell_type": "code",
   "execution_count": null,
   "metadata": {
    "scrolled": false
   },
   "outputs": [],
   "source": [
    "fig = plt.figure()\n",
    "ax = fig.add_subplot(111, projection='3d')\n",
    "\n",
    "try:\n",
    "    while True:\n",
    "        calc_next_step(arr, bodies)\n",
    "        ax.cla()\n",
    "        \n",
    "        # Without Loop\n",
    "#         positions = arr[:, [0]].reshape(-1, 3)\n",
    "#         xs, ys, zs = positions[:, [0]], positions[:, [1]], positions[:, [2]]\n",
    "#         ax.scatter(xs, ys, zs, s=tuple(map(lambda b: b.mass, bodies)))\n",
    "\n",
    "        # With Loop\n",
    "        for idx, (xs, ys, zs) in enumerate(map(lambda x: x[0], arr[:, [0]])):\n",
    "            ax.scatter(xs, ys, zs, marker='o', s=bodies[idx].mass)\n",
    "        fig.canvas.draw()\n",
    "        fig.show()\n",
    "except KeyboardInterrupt as e:\n",
    "    fig.close()\n",
    "    print(); print()\n",
    "    print(\"Received SIGINT. Closing simulation\")\n",
    "    print()\n",
    "    print(\"Last Values:\")\n",
    "    pretty_print_coordinates(bodies, arr)"
   ]
  },
  {
   "cell_type": "code",
   "execution_count": null,
   "metadata": {},
   "outputs": [],
   "source": [
    "def show_final_with_mass():\n",
    "    fig = plt.figure(figsize=(6, 6))\n",
    "    ax = fig.add_subplot(111, projection='3d')\n",
    "    \n",
    "    positions = arr[:, [0]].reshape(-1, 3)\n",
    "    xs, ys, zs = positions[:, [0]], positions[:, [1]], positions[:, [2]]\n",
    "    size = tuple(map(lambda b: b.mass, bodies))\n",
    "    \n",
    "    r = ax.scatter(xs, ys, zs, s=size, c=size)\n",
    "    fig.colorbar(r, pad=0.2, orientation='horizontal', label=\"Mass/Size of Bodies\")\n",
    "\n",
    "\n",
    "show_final_with_mass()"
   ]
  }
 ],
 "metadata": {
  "kernelspec": {
   "display_name": "physics_venv",
   "language": "python",
   "name": "physics_venv"
  },
  "language_info": {
   "codemirror_mode": {
    "name": "ipython",
    "version": 3
   },
   "file_extension": ".py",
   "mimetype": "text/x-python",
   "name": "python",
   "nbconvert_exporter": "python",
   "pygments_lexer": "ipython3",
   "version": "3.8.5"
  }
 },
 "nbformat": 4,
 "nbformat_minor": 4
}
